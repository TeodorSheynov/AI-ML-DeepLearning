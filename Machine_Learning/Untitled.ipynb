{
 "cells": [
  {
   "cell_type": "code",
   "execution_count": 88,
   "metadata": {},
   "outputs": [
    {
     "data": {
      "text/plain": [
       "0.3333333333333333"
      ]
     },
     "execution_count": 88,
     "metadata": {},
     "output_type": "execute_result"
    }
   ],
   "source": [
    "import pandas as pd\n",
    "from sklearn.tree import DecisionTreeClassifier\n",
    "from sklearn.model_selection import train_test_split\n",
    "from sklearn.metrics import accuracy_score\n",
    "\n",
    "music_data=pd.read_csv('music.csv')\n",
    "X=music_data.drop(columns = ['genre'])\n",
    "y=music_data['genre']\n",
    "X_train, X_test, y_train, y_test = train_test_split(X, y, test_size=0.15)\n",
    "\n",
    "model=DecisionTreeClassifier()\n",
    "model.fit(X_train, y_train)\n",
    "predictions=model.predict(X_test)\n",
    "\n",
    "score = accuracy_score(y_test, predictions)\n",
    "score"
   ]
  },
  {
   "cell_type": "code",
   "execution_count": 93,
   "metadata": {},
   "outputs": [
    {
     "data": {
      "text/plain": [
       "array(['HipHop'], dtype=object)"
      ]
     },
     "execution_count": 93,
     "metadata": {},
     "output_type": "execute_result"
    }
   ],
   "source": [
    "import pandas as pd\n",
    "from sklearn.tree import DecisionTreeClassifier\n",
    "import joblib\n",
    "\n",
    "# music_data=pd.read_csv('music.csv')\n",
    "# X=music_data.drop(columns = ['genre'])\n",
    "# y=music_data['genre']\n",
    "\n",
    "# model=DecisionTreeClassifier()\n",
    "# model.fit(X, y)\n",
    "\n",
    "#creating training file\n",
    "#joblib.dump(model, 'music-recommender.joblib')\n",
    "\n",
    "#using existing file to train the model\n",
    "joblib.load('music-recommender.joblib')\n",
    "\n",
    "predictions = model.predict([[21,1]])\n",
    "predictions"
   ]
  },
  {
   "cell_type": "code",
   "execution_count": 103,
   "metadata": {},
   "outputs": [
    {
     "data": {
      "text/plain": [
       "DecisionTreeClassifier()"
      ]
     },
     "execution_count": 103,
     "metadata": {},
     "output_type": "execute_result"
    }
   ],
   "source": [
    "import pandas as pd\n",
    "from sklearn.tree import DecisionTreeClassifier\n",
    "\n",
    "music_data=pd.read_csv('music.csv')\n",
    "X=music_data.drop(columns = ['genre'])\n",
    "y=music_data['genre']\n",
    "\n",
    "model=DecisionTreeClassifier()\n",
    "model.fit(X, y)\n",
    "\n"
   ]
  },
  {
   "cell_type": "code",
   "execution_count": 104,
   "metadata": {},
   "outputs": [],
   "source": [
    "import pandas as pd\n",
    "from sklearn.tree import DecisionTreeClassifier\n",
    "from sklearn import tree\n",
    "\n",
    "#import data_set\n",
    "music_data=pd.read_csv('music.csv')\n",
    "#input data\n",
    "X=music_data.drop(columns = ['genre'])\n",
    "#Output data\n",
    "y=music_data['genre']\n",
    "\n",
    "#create model\n",
    "model=DecisionTreeClassifier()\n",
    "#train it\n",
    "model.fit(X, y)\n",
    "\n",
    "tree.export_graphviz(model, out_file='music-recommender.dot',\n",
    "                     feature_names=['age', 'gender'],\n",
    "                     class_names=sorted(y.unique()),\n",
    "                     label='all',\n",
    "                     rounded=True,\n",
    "                     filled=True)\n",
    "                     \n"
   ]
  },
  {
   "cell_type": "code",
   "execution_count": null,
   "metadata": {},
   "outputs": [],
   "source": []
  }
 ],
 "metadata": {
  "kernelspec": {
   "display_name": "Python 3",
   "language": "python",
   "name": "python3"
  },
  "language_info": {
   "codemirror_mode": {
    "name": "ipython",
    "version": 3
   },
   "file_extension": ".py",
   "mimetype": "text/x-python",
   "name": "python",
   "nbconvert_exporter": "python",
   "pygments_lexer": "ipython3",
   "version": "3.8.5"
  }
 },
 "nbformat": 4,
 "nbformat_minor": 4
}
